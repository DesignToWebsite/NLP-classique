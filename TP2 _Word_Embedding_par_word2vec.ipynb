{
  "nbformat": 4,
  "nbformat_minor": 0,
  "metadata": {
    "colab": {
      "provenance": [],
      "authorship_tag": "ABX9TyO8d31rgaWMPIhaoQQD32p6",
      "include_colab_link": true
    },
    "kernelspec": {
      "name": "python3",
      "display_name": "Python 3"
    },
    "language_info": {
      "name": "python"
    }
  },
  "cells": [
    {
      "cell_type": "markdown",
      "metadata": {
        "id": "view-in-github",
        "colab_type": "text"
      },
      "source": [
        "<a href=\"https://colab.research.google.com/github/DesignToWebsite/NLP-classique/blob/main/TP2%C2%A0_Word_Embedding_par_word2vec.ipynb\" target=\"_parent\"><img src=\"https://colab.research.google.com/assets/colab-badge.svg\" alt=\"Open In Colab\"/></a>"
      ]
    },
    {
      "cell_type": "code",
      "execution_count": 1,
      "metadata": {
        "colab": {
          "base_uri": "https://localhost:8080/"
        },
        "id": "3QbJ-SOkOlhB",
        "outputId": "29f92483-3d5a-4ad5-b23d-0167980910cf"
      },
      "outputs": [
        {
          "output_type": "stream",
          "name": "stderr",
          "text": [
            "[nltk_data] Downloading package punkt to /root/nltk_data...\n",
            "[nltk_data]   Unzipping tokenizers/punkt.zip.\n"
          ]
        },
        {
          "output_type": "stream",
          "name": "stdout",
          "text": [
            "Représentation vectorielle de 'morocco':\n",
            "[ 7.9861265e-03 -4.3986109e-03 -1.1188235e-03  1.0212786e-03\n",
            " -1.5484996e-04  8.8460196e-04  6.2092529e-03  1.9282692e-04\n",
            " -3.2725236e-03 -1.5964406e-03  5.8972309e-03  1.4465452e-03\n",
            " -7.6669309e-04  9.2883892e-03 -4.9454193e-03 -9.9625450e-04\n",
            "  9.2038242e-03  6.5166056e-03  1.5061223e-03 -9.1303242e-03\n",
            "  1.1990661e-03 -2.3100153e-03  9.4213318e-03  1.2134187e-03\n",
            "  1.4843501e-03  2.4835106e-03 -1.8155328e-03 -4.9010529e-03\n",
            "  7.3593226e-05 -1.9989235e-03  6.8093464e-03  8.9844605e-03\n",
            " -6.0027069e-04  2.9499878e-03 -6.1948504e-03  1.8800430e-03\n",
            " -6.8120598e-03 -8.7264990e-03 -6.0402700e-03 -9.0847230e-03\n",
            "  7.2429478e-03 -5.9245308e-03  8.2537457e-03 -7.2612632e-03\n",
            "  3.5781492e-03  9.6476600e-03 -7.8572435e-03 -9.9715879e-03\n",
            " -4.2743143e-03 -2.6665758e-03 -1.5505160e-04 -8.8845836e-03\n",
            " -8.5949646e-03  2.7720316e-03 -8.3064735e-03 -8.8967774e-03\n",
            " -2.3354020e-03 -8.5903844e-03 -7.1530771e-03 -8.3346339e-03\n",
            " -3.1884745e-04 -4.5301388e-03  6.6873892e-03  1.4463259e-03\n",
            " -3.5346118e-03  6.1494811e-03 -5.8841514e-03 -4.4232691e-03\n",
            " -7.3733232e-03 -4.1227015e-03 -1.8769680e-03  6.5285070e-03\n",
            " -2.6262579e-03  4.9191462e-03  7.0396094e-03 -7.4095456e-03\n",
            "  4.5692930e-03  6.1138659e-03 -3.1733101e-03  6.6776737e-03\n",
            "  5.9592589e-03 -6.3197846e-03 -6.9195568e-03  2.7563432e-03\n",
            " -1.7376179e-03 -6.1064507e-03  9.5787635e-03 -4.8993709e-03\n",
            " -6.4452142e-03 -2.3168614e-04 -2.5619201e-03  5.4725446e-04\n",
            " -3.4619481e-03 -4.2151054e-04 -4.4291079e-04  1.0113395e-03\n",
            "  8.3639314e-03 -5.7629640e-03 -1.5962445e-03  5.5628107e-03]\n",
            "\n",
            "Similarité entre 'morocco' et 'marrakech': 0.039759017527103424\n",
            "\n",
            "Mots contextuels pour 'marrakech':\n",
            "[('influences', 0.26982370018959045), ('city', 0.25570735335350037), ('travelers', 0.24755527079105377), ('garden', 0.22535823285579681), ('cumin', 0.2194472849369049)]\n",
            "\n"
          ]
        }
      ],
      "source": [
        "from gensim.models import Word2Vec\n",
        "from nltk.tokenize import word_tokenize\n",
        "import nltk\n",
        "nltk.download('punkt')\n",
        "\n",
        "text = \"\"\"**Morocco and Marrakech: A Tapestry of Tradition and Modernity** Morocco, located at the crossroads of Europe and Africa, is a country drenched in history, mystery, and cultural richness. A testament to the ancient civilizations that once flourished here, this North African kingdom boasts a unique blend of Arab, Berber, and European influences. At the heart of Morocco's rich tapestry lies Marrakech, one of its four imperial cities and a vibrant epicenter of tradition and modernity. **Geographical Significance** Morocco is bordered by the Atlantic Ocean to the west, the Mediterranean Sea to the north, Algeria to the east and southeast, and the vast Sahara desert to the south. Its strategic location has historically made it a sought-after territory and a melting pot of cultures, religions, and trade routes. **Marrakech: The Red City** Marrakech, often referred to as \"The Red City\" due to its distinctive red-hued buildings, stands against the backdrop of the snow-capped Atlas Mountains. Established in the 11th century, it has remained a crucial political, economic, and cultural center of Morocco. **Journey through the Medina** Marrakech's old town, the Medina, is a UNESCO World Heritage site and a labyrinthine maze of narrow alleys, bustling souks, and historical landmarks. The Djemaa el-Fna Square lies at the heart of the Medina and comes alive every evening with storytellers, musicians, snake charmers, and food stalls offering tantalizing Moroccan delicacies. **Palaces and Gardens** The city is also home to grand palaces like the Bahia Palace, showcasing intricate Islamic architecture, and the Saadian Tombs, remnants of the Saadian dynasty. The Majorelle Garden, restored by the fashion designer Yves Saint Laurent, is a tranquil oasis of cacti, palm trees, and cobalt blue accents. **Modern Marrakech** While tradition and history permeate Marrakech, the city is not averse to the modern world. Gueliz, the new town, is brimming with contemporary art galleries, stylish cafes, and chic boutiques, offering a stark contrast to the ancient Medina. **Moroccan Cuisine** No journey through Morocco and Marrakech would be complete without indulging in the local cuisine. Tagines, couscous, and pastilla are just a few of the many dishes that combine a plethora of flavors and spices like saffron, cumin, and mint. Paired with Moroccan mint tea, the culinary experience is truly unparalleled. **In Conclusion** Morocco, with Marrakech at its heart, offers travelers an unparalleled journey through time. The convergence of history, culture, architecture, and gastronomy makes it an enthralling destination for those seeking both adventure and reflection. As the Moroccan proverb goes, \"He who does not travel does not know the value of men.\" In the case of Morocco and Marrakech, it's not just the value of men, but also the value of time, tradition, and tales that have spanned centuries.\"\"\"\n",
        "\n",
        "tokenized_text = [word.lower() for word in word_tokenize(text) if word.isalnum()]\n",
        "\n",
        "model = Word2Vec([tokenized_text], vector_size=100, window=5, min_count=1, workers=4)\n",
        "\n",
        "# 1\n",
        "word = \"morocco\"\n",
        "vector_representation = model.wv[word]\n",
        "print(f\"Représentation vectorielle de '{word}':\\n{vector_representation}\\n\")\n",
        "\n",
        "# 2\n",
        "word1 = \"morocco\"\n",
        "word2 = \"marrakech\"\n",
        "similarity = model.wv.similarity(word1, word2)\n",
        "print(f\"Similarité entre '{word1}' et '{word2}': {similarity}\\n\")\n",
        "\n",
        "# 3\n",
        "central_word = \"marrakech\"\n",
        "context_words = model.wv.most_similar(central_word, topn=5)\n",
        "print(f\"Mots contextuels pour '{central_word}':\\n{context_words}\\n\")\n"
      ]
    }
  ]
}