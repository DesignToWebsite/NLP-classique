{
  "nbformat": 4,
  "nbformat_minor": 0,
  "metadata": {
    "colab": {
      "provenance": [],
      "authorship_tag": "ABX9TyPRFEv/a/+oFJGy1/DzP2ML",
      "include_colab_link": true
    },
    "kernelspec": {
      "name": "python3",
      "display_name": "Python 3"
    },
    "language_info": {
      "name": "python"
    }
  },
  "cells": [
    {
      "cell_type": "markdown",
      "metadata": {
        "id": "view-in-github",
        "colab_type": "text"
      },
      "source": [
        "<a href=\"https://colab.research.google.com/github/DesignToWebsite/NLP-classique/blob/main/TP2%C2%A0_Word_Embedding_par_word2vec.ipynb\" target=\"_parent\"><img src=\"https://colab.research.google.com/assets/colab-badge.svg\" alt=\"Open In Colab\"/></a>"
      ]
    },
    {
      "cell_type": "code",
      "execution_count": 6,
      "metadata": {
        "colab": {
          "base_uri": "https://localhost:8080/"
        },
        "id": "3QbJ-SOkOlhB",
        "outputId": "24525dfb-2a3c-4154-8604-64b88e24df63"
      },
      "outputs": [
        {
          "output_type": "stream",
          "name": "stdout",
          "text": [
            "Représentation vectorielle de 'morocco':\n",
            "[-0.01637833  0.00282385 -0.03940577 -0.07668231 -0.01485602  0.02501684\n",
            " -0.00678327  0.05620695 -0.02836806  0.02093093]\n",
            "\n",
            "Similarité entre 'morocco' et 'marrakech': 0.6047579050064087\n",
            "\n",
            "Mots contextuels pour 'marrakech':\n",
            "[('while', 0.6514329314231873), ('flourished', 0.6421434879302979), ('located', 0.6283425092697144), ('boutiques', 0.6082603335380554), ('morocco', 0.6047579646110535)]\n",
            "\n"
          ]
        },
        {
          "output_type": "stream",
          "name": "stderr",
          "text": [
            "[nltk_data] Downloading package punkt to /root/nltk_data...\n",
            "[nltk_data]   Package punkt is already up-to-date!\n"
          ]
        }
      ],
      "source": [
        "from gensim.models import Word2Vec\n",
        "from nltk.tokenize import word_tokenize\n",
        "import nltk\n",
        "nltk.download('punkt')\n",
        "\n",
        "text = \"\"\"**Morocco and Marrakech: A Tapestry of Tradition and Modernity** Morocco, located at the crossroads of Europe and Africa, is a country drenched in history, mystery, and cultural richness. A testament to the ancient civilizations that once flourished here, this North African kingdom boasts a unique blend of Arab, Berber, and European influences. At the heart of Morocco's rich tapestry lies Marrakech, one of its four imperial cities and a vibrant epicenter of tradition and modernity. **Geographical Significance** Morocco is bordered by the Atlantic Ocean to the west, the Mediterranean Sea to the north, Algeria to the east and southeast, and the vast Sahara desert to the south. Its strategic location has historically made it a sought-after territory and a melting pot of cultures, religions, and trade routes. **Marrakech: The Red City** Marrakech, often referred to as \"The Red City\" due to its distinctive red-hued buildings, stands against the backdrop of the snow-capped Atlas Mountains. Established in the 11th century, it has remained a crucial political, economic, and cultural center of Morocco. **Journey through the Medina** Marrakech's old town, the Medina, is a UNESCO World Heritage site and a labyrinthine maze of narrow alleys, bustling souks, and historical landmarks. The Djemaa el-Fna Square lies at the heart of the Medina and comes alive every evening with storytellers, musicians, snake charmers, and food stalls offering tantalizing Moroccan delicacies. **Palaces and Gardens** The city is also home to grand palaces like the Bahia Palace, showcasing intricate Islamic architecture, and the Saadian Tombs, remnants of the Saadian dynasty. The Majorelle Garden, restored by the fashion designer Yves Saint Laurent, is a tranquil oasis of cacti, palm trees, and cobalt blue accents. **Modern Marrakech** While tradition and history permeate Marrakech, the city is not averse to the modern world. Gueliz, the new town, is brimming with contemporary art galleries, stylish cafes, and chic boutiques, offering a stark contrast to the ancient Medina. **Moroccan Cuisine** No journey through Morocco and Marrakech would be complete without indulging in the local cuisine. Tagines, couscous, and pastilla are just a few of the many dishes that combine a plethora of flavors and spices like saffron, cumin, and mint. Paired with Moroccan mint tea, the culinary experience is truly unparalleled. **In Conclusion** Morocco, with Marrakech at its heart, offers travelers an unparalleled journey through time. The convergence of history, culture, architecture, and gastronomy makes it an enthralling destination for those seeking both adventure and reflection. As the Moroccan proverb goes, \"He who does not travel does not know the value of men.\" In the case of Morocco and Marrakech, it's not just the value of men, but also the value of time, tradition, and tales that have spanned centuries.\"\"\"\n",
        "\n",
        "tokenized_text = [word.lower() for word in word_tokenize(text) if word.isalnum()]\n",
        "\n",
        "model = Word2Vec([tokenized_text], vector_size=10, window=5, min_count=1, workers=4)\n",
        "\n",
        "# 1\n",
        "word = \"morocco\"\n",
        "vector_representation = model.wv[word]\n",
        "print(f\"Représentation vectorielle de '{word}':\\n{vector_representation}\\n\")\n",
        "\n",
        "# 2\n",
        "word1 = \"morocco\"\n",
        "word2 = \"marrakech\"\n",
        "similarity = model.wv.similarity(word1, word2)\n",
        "print(f\"Similarité entre '{word1}' et '{word2}': {similarity}\\n\")\n",
        "\n",
        "# 3\n",
        "central_word = \"marrakech\"\n",
        "context_words = model.wv.most_similar(central_word, topn=5)\n",
        "print(f\"Mots contextuels pour '{central_word}':\\n{context_words}\\n\")\n"
      ]
    }
  ]
}